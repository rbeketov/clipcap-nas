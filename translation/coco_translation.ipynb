{
  "cells": [
    {
      "cell_type": "code",
      "execution_count": null,
      "id": "cd9b9104-4ac7-4a5b-8917-0f69fdea28c5",
      "metadata": {
        "id": "cd9b9104-4ac7-4a5b-8917-0f69fdea28c5"
      },
      "outputs": [],
      "source": [
        "from mtranslate import translate\n",
        "from tqdm import tqdm\n",
        "import jsonlines\n",
        "\n",
        "\n",
        "def translation(to_translate, file):\n",
        "    translated = {}\n",
        "    i = 0\n",
        "    for image_id, captions in tqdm(to_translate.items()):\n",
        "        cur_image = []\n",
        "        for caption in captions:\n",
        "            cur_image.append(translate(caption, 'ru'))\n",
        "        translated[image_id] = cur_image\n",
        "        i += 1\n",
        "        if i % 1000 == 0:\n",
        "            with jsonlines.open(f'{file}.jsonl', mode='w') as writer:\n",
        "                writer.write(translated)\n",
        "    return translated"
      ]
    },
    {
      "cell_type": "code",
      "execution_count": null,
      "id": "973c39ca-2a5c-48fb-9f13-8dc335f2ecd8",
      "metadata": {
        "id": "973c39ca-2a5c-48fb-9f13-8dc335f2ecd8"
      },
      "outputs": [],
      "source": [
        "from pycocotools.coco import COCO\n",
        "\n",
        "\n",
        "def get_coco_captions(coco_annotations_file):\n",
        "    # Initialize COCO instance\n",
        "    coco = COCO(coco_annotations_file)\n",
        "\n",
        "    # Load captions\n",
        "    coco_captions = {}\n",
        "\n",
        "    # Get image IDs\n",
        "    image_ids = coco.getImgIds()\n",
        "\n",
        "    for image_id in image_ids:\n",
        "        # Get image info\n",
        "        image_info = coco.loadImgs(image_id)[0]\n",
        "\n",
        "        # Get file name and image captions\n",
        "        file_name = image_info['file_name']\n",
        "        captions = []\n",
        "\n",
        "        # Get annotation IDs for the image\n",
        "        annotation_ids = coco.getAnnIds(imgIds=image_id)\n",
        "\n",
        "        # Get annotations and their captions\n",
        "        annotations = coco.loadAnns(annotation_ids)\n",
        "        for annotation in annotations:\n",
        "            caption = annotation['caption']\n",
        "            captions.append(caption)\n",
        "\n",
        "        # Add captions to the dictionary\n",
        "        coco_captions[file_name] = captions\n",
        "    return coco_captions"
      ]
    },
    {
      "cell_type": "code",
      "execution_count": null,
      "id": "905ff75d-ba13-4fdf-8742-085a6f493d78",
      "metadata": {
        "id": "905ff75d-ba13-4fdf-8742-085a6f493d78"
      },
      "outputs": [],
      "source": [
        "coco_captions_train = get_coco_captions('coco_dataset/annotations/captions_train2014.json')"
      ]
    },
    {
      "cell_type": "code",
      "execution_count": null,
      "id": "b594c4ee-1013-4a41-9fb8-60c1d8758b52",
      "metadata": {
        "id": "b594c4ee-1013-4a41-9fb8-60c1d8758b52"
      },
      "outputs": [],
      "source": [
        "coco_captions_val = get_coco_captions('coco_dataset/annotations/captions_val2014.json')"
      ]
    },
    {
      "cell_type": "code",
      "execution_count": null,
      "id": "48978d3b-5071-4fb6-bb5e-fd225213901b",
      "metadata": {
        "id": "48978d3b-5071-4fb6-bb5e-fd225213901b"
      },
      "outputs": [],
      "source": [
        "print(len(coco_captions_train), len(coco_captions_val))"
      ]
    },
    {
      "cell_type": "code",
      "execution_count": null,
      "id": "48be1fad-3be5-4c8e-b3a7-853b093c5d97",
      "metadata": {
        "id": "48be1fad-3be5-4c8e-b3a7-853b093c5d97"
      },
      "outputs": [],
      "source": [
        "coco_train_ru = translation(coco_captions_train, \"coco_train_trainslation\")"
      ]
    },
    {
      "cell_type": "code",
      "execution_count": null,
      "id": "e4063ea4-e27d-4b68-b01b-dac4cace512f",
      "metadata": {
        "id": "e4063ea4-e27d-4b68-b01b-dac4cace512f"
      },
      "outputs": [],
      "source": [
        "with jsonlines.open(\"coco_train_trainslation.jsonl\", mode='w') as writer:\n",
        "    writer.write(coco_train_ru)"
      ]
    },
    {
      "cell_type": "code",
      "execution_count": null,
      "id": "eb1c4b4c-205b-46f6-8379-9b14f5fa9322",
      "metadata": {
        "id": "eb1c4b4c-205b-46f6-8379-9b14f5fa9322"
      },
      "outputs": [],
      "source": [
        "import jsonlines\n",
        "\n",
        "with jsonlines.open(\"coco_train_trainslation.jsonl\") as reader:\n",
        "    f = reader.read()\n",
        "len(f)"
      ]
    },
    {
      "cell_type": "code",
      "execution_count": null,
      "id": "3a2f806d-e67c-49f4-9f68-91fe907a2f00",
      "metadata": {
        "id": "3a2f806d-e67c-49f4-9f68-91fe907a2f00"
      },
      "outputs": [],
      "source": [
        "coco_val_ru = translation(coco_captions_val, \"coco_val_translation\")"
      ]
    }
  ],
  "metadata": {
    "kernelspec": {
      "display_name": "Python 3 (ipykernel)",
      "language": "python",
      "name": "python3"
    },
    "language_info": {
      "codemirror_mode": {
        "name": "ipython",
        "version": 3
      },
      "file_extension": ".py",
      "mimetype": "text/x-python",
      "name": "python",
      "nbconvert_exporter": "python",
      "pygments_lexer": "ipython3",
      "version": "3.8.10"
    },
    "colab": {
      "provenance": []
    }
  },
  "nbformat": 4,
  "nbformat_minor": 5
}